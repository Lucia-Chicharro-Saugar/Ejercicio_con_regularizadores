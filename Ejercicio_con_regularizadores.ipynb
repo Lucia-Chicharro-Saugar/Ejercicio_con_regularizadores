{
  "nbformat": 4,
  "nbformat_minor": 0,
  "metadata": {
    "kernelspec": {
      "display_name": "Python 3",
      "language": "python",
      "name": "python3"
    },
    "language_info": {
      "codemirror_mode": {
        "name": "ipython",
        "version": 3
      },
      "file_extension": ".py",
      "mimetype": "text/x-python",
      "name": "python",
      "nbconvert_exporter": "python",
      "pygments_lexer": "ipython3",
      "version": "3.8.5"
    },
    "colab": {
      "provenance": []
    },
    "accelerator": "TPU"
  },
  "cells": [
    {
      "cell_type": "markdown",
      "metadata": {
        "id": "Ejg7Msp7rbkk"
      },
      "source": [
        "# Ejercicio con regularizadores"
      ]
    },
    {
      "cell_type": "code",
      "source": [
        "%tensorflow_version 2.x\n",
        "import tensorflow as tf\n",
        "from tensorflow import keras\n",
        "print(tf.keras.__version__)\n",
        "print(\"GPU Available:\", tf.config.list_physical_devices('GPU'))\n",
        "print(tf.__version__)\n",
        "from keras.datasets import mnist\n",
        "from keras import models\n",
        "from keras import layers\n",
        "import numpy as np\n",
        "import matplotlib.pyplot as plt\n",
        "from keras import regularizers"
      ],
      "metadata": {
        "id": "BSivef1i532C",
        "outputId": "77efd868-8e13-4492-82af-5c68d96f530a",
        "colab": {
          "base_uri": "https://localhost:8080/"
        }
      },
      "execution_count": 6,
      "outputs": [
        {
          "output_type": "stream",
          "name": "stdout",
          "text": [
            "Colab only includes TensorFlow 2.x; %tensorflow_version has no effect.\n",
            "2.9.0\n",
            "GPU Available: []\n",
            "2.9.2\n"
          ]
        }
      ]
    },
    {
      "cell_type": "code",
      "source": [
        "(train_images, train_labels), (test_images, test_labels) = mnist.load_data()# Descarga los datos de MNIST"
      ],
      "metadata": {
        "id": "3t3R6gU9-wUy"
      },
      "execution_count": 7,
      "outputs": []
    },
    {
      "cell_type": "code",
      "source": [
        "# Prepara con reshape y normaliza las imágenes tanto de entrenamiento como de test\n",
        "train_images = train_images.reshape((60000, 28 * 28))\n",
        "test_images = test_images.reshape((10000, 28 * 28))\n",
        "\n",
        "train_images = train_images.astype('float32') / 255\n",
        "test_images = test_images.astype('float32') / 255"
      ],
      "metadata": {
        "id": "H6n5NeSz0U1d"
      },
      "execution_count": 8,
      "outputs": []
    },
    {
      "cell_type": "code",
      "source": [
        "# Crear un subconjunto de imágenes de entrenamiento que llamaré\n",
        "# validation_images, para hacer las validaciones, con las 10000 últimas imágenes \n",
        "# del set de datos de entrenamiento (train_images) (obviamente, lo mismo con las\n",
        "# etiquetas correspondientes -> validation_labels). Deja preparadas las 50K \n",
        "# primeras imágenes y etiquetas para entrenamiento (train_images y train_labels)\n",
        "validation_images = train_images[50000:]\n",
        "train_images = train_images[0:49999]\n",
        "\n",
        "validation_labels = train_labels[50000:]\n",
        "train_labels = train_labels[0:49999]"
      ],
      "metadata": {
        "id": "NKoZGyap0XAj"
      },
      "execution_count": 9,
      "outputs": []
    },
    {
      "cell_type": "code",
      "source": [
        "def crea_modelo(regularizador):\n",
        "  # Define una función que recibe un número del 0 al 4 que creará:\n",
        "  # un modelo secuencial con una capa de entrada densa de 512 neuronas\n",
        "  # con activación relu y la capa de salida que le corresponda según el problema\n",
        "  # Ahora, en función del número del regularizador:\n",
        "  # Si es 0, no mete ningún regularizador\n",
        "  # Si es 1, mete un regularizador de tipo l1 y valor 0.001\n",
        "  # Si es 2, mete un regularizador de tipo l2 y valor 0.001\n",
        "  # Si es 3, mete un regularizador de tipo l1_l2 y valor 0.001 para ambos\n",
        "  # Si es 4, mete un Dropout del 50% después de la primera capa densa\n",
        "  # Si es distinto que estos valores, escribe el error y retorna\n",
        "  # Al final, esta función pinta el summary del modelo y retorna el modelo creado\n",
        "  modelo = models.Sequential()\n",
        "  if regularizador == 0:\n",
        "    modelo.add(layers.Dense(512, activation='relu', input_shape=(28*28,)))\n",
        "  elif regularizador == 1:\n",
        "    modelo.add(layers.Dense(512, kernel_regularizer=regularizers.l1(0.001), activation='relu', input_shape=(28*28,)))\n",
        "  elif regularizador == 2:\n",
        "    modelo.add(layers.Dense(512, kernel_regularizer=regularizers.l2(0.001), activation='relu', input_shape=(28*28,)))\n",
        "  elif regularizador == 3:\n",
        "    modelo.add(layers.Dense(512, kernel_regularizer=regularizers.l1_l2(l1=0.001, l2=0.001), activation='relu', input_shape=(28*28,)))\n",
        "  elif regularizador == 4:\n",
        "    modelo.add(layers.Dense(512, activation='relu', input_shape=(28*28,)))\n",
        "    modelo.add(layers.Dropout(0.5))\n",
        "  else:\n",
        "    print('El regularizador debe estar entre 0 y 4')\n",
        "    return\n",
        "  modelo.add(layers.Dense(10, activation='softmax'))\n",
        "  modelo.summary()\n",
        "  return modelo"
      ],
      "metadata": {
        "id": "6JnVLVfsAfkh"
      },
      "execution_count": 43,
      "outputs": []
    },
    {
      "cell_type": "code",
      "source": [
        "def compila_modelo(modelo): \n",
        "  # Define una función que recibe un modelo, lo compila con un optimizador\n",
        "  # 'rmsprop', con una función de pérdida 'sparse_categorical_crossentropy' y\n",
        "  # una métrica de precisión. La función retorna el modelo\n",
        "  modelo.compile(optimizer='rmsprop', \n",
        "                loss='sparse_categorical_crossentropy',\n",
        "                metrics=['accuracy'])\n",
        "\n",
        "\n",
        "  return modelo"
      ],
      "metadata": {
        "id": "qKyJ8KOT0aFt"
      },
      "execution_count": 11,
      "outputs": []
    },
    {
      "cell_type": "code",
      "source": [
        "def entrena_modelo(modelo):\n",
        "  # Define una función que entrena el modelo que se le pasa por parámetro,\n",
        "  # con las imágenes y etiquetas de entrenamiento, con 30 iteraciones y 128\n",
        "  # de tamaño de minilote y con el validation_data creado más arriba.\n",
        "  # Esta función devuelve un history\n",
        "  historia = modelo.fit(train_images, train_labels,\n",
        "            batch_size=128,\n",
        "            epochs=30,\n",
        "            validation_data = (validation_images, validation_labels))\n",
        "  return historia"
      ],
      "metadata": {
        "id": "_yQ7SpOt0cBp"
      },
      "execution_count": 12,
      "outputs": []
    },
    {
      "cell_type": "code",
      "source": [
        "def pinta_perdida_entrenamiento_validacion(historia):\n",
        "  history_dict = historia.history\n",
        "  acc = historia.history['accuracy']\n",
        "  val_acc = historia.history['val_accuracy']\n",
        "  loss = historia.history['loss']\n",
        "  val_loss = historia.history['val_loss']\n",
        "  epochs = range(1, len(acc) + 1)\n",
        "  # \"bo\" es para \"punto azun\"\n",
        "  plt.plot(epochs, loss, 'bo', label='Pérdida de Entrenamiento')\n",
        "  # \"b\" es para \"linea continua azul\"\n",
        "  plt.plot(epochs, val_loss, 'b', label='Pérdida de Validación')\n",
        "  plt.title('Pérdida de Entrenamiento y Validación')\n",
        "  plt.xlabel('Epochs')\n",
        "  plt.ylabel('Loss')\n",
        "  plt.legend()\n",
        "  plt.show()"
      ],
      "metadata": {
        "id": "bJrRNc4WwPN2"
      },
      "execution_count": 13,
      "outputs": []
    },
    {
      "cell_type": "code",
      "source": [
        "def pinta_precision_entrenamiento_validacion(historia):\n",
        "  history_dict = historia.history\n",
        "  acc = historia.history['accuracy']\n",
        "  val_acc = historia.history['val_accuracy']\n",
        "  loss = historia.history['loss']\n",
        "  val_loss = historia.history['val_loss']\n",
        "  plt.clf()   # Limpia la figura\n",
        "  acc_values = history_dict['accuracy']\n",
        "  val_acc_values = history_dict['val_accuracy']\n",
        "  epochs = range(1, len(acc) + 1)\n",
        "  plt.plot(epochs, acc, 'bo', label='Precisión de Entrenamiento')\n",
        "  plt.plot(epochs, val_acc, 'b', label='Precisión de Validación')\n",
        "  plt.title('Precisión de Entrenamiento y Valización')\n",
        "  plt.xlabel('Epochs')\n",
        "  plt.ylabel('Loss')\n",
        "  plt.legend()\n",
        "  plt.show()"
      ],
      "metadata": {
        "id": "Mafxp6D3wYQx"
      },
      "execution_count": 14,
      "outputs": []
    },
    {
      "cell_type": "markdown",
      "source": [
        "## Una vez definidas todas las funciones anteriores, ejecuta las siguientes llamadas a dichas funciones y deduce que está pasando y, para este contexto, que es lo que mejor está funcionando"
      ],
      "metadata": {
        "id": "6nnQYysYA3_T"
      }
    },
    {
      "cell_type": "markdown",
      "source": [
        "### Caso 0, sin regularizadores"
      ],
      "metadata": {
        "id": "OrGwDgaFBax4"
      }
    },
    {
      "cell_type": "code",
      "source": [
        "network0 = crea_modelo(0)"
      ],
      "metadata": {
        "id": "uXvhlXg79Zi9",
        "outputId": "76787119-3ed7-4565-f6fd-a529217034c4",
        "colab": {
          "base_uri": "https://localhost:8080/"
        }
      },
      "execution_count": 15,
      "outputs": [
        {
          "output_type": "stream",
          "name": "stdout",
          "text": [
            "Model: \"sequential\"\n",
            "_________________________________________________________________\n",
            " Layer (type)                Output Shape              Param #   \n",
            "=================================================================\n",
            " dense (Dense)               (None, 512)               401920    \n",
            "                                                                 \n",
            " dense_1 (Dense)             (None, 10)                5130      \n",
            "                                                                 \n",
            "=================================================================\n",
            "Total params: 407,050\n",
            "Trainable params: 407,050\n",
            "Non-trainable params: 0\n",
            "_________________________________________________________________\n"
          ]
        }
      ]
    },
    {
      "cell_type": "code",
      "source": [
        "network0 = compila_modelo(network0)"
      ],
      "metadata": {
        "id": "Ff0HC3NR9ez8"
      },
      "execution_count": 16,
      "outputs": []
    },
    {
      "cell_type": "code",
      "source": [
        "historia0 = entrena_modelo(network0)"
      ],
      "metadata": {
        "id": "x9zQDOlw9g6V",
        "outputId": "3ae6c45a-255b-4f22-8067-1ab0ae169fc1",
        "colab": {
          "base_uri": "https://localhost:8080/"
        }
      },
      "execution_count": 17,
      "outputs": [
        {
          "output_type": "stream",
          "name": "stdout",
          "text": [
            "Epoch 1/30\n",
            "391/391 [==============================] - 6s 12ms/step - loss: 0.2802 - accuracy: 0.9186 - val_loss: 0.1401 - val_accuracy: 0.9595\n",
            "Epoch 2/30\n",
            "391/391 [==============================] - 5s 12ms/step - loss: 0.1171 - accuracy: 0.9657 - val_loss: 0.0978 - val_accuracy: 0.9715\n",
            "Epoch 3/30\n",
            "391/391 [==============================] - 5s 12ms/step - loss: 0.0767 - accuracy: 0.9772 - val_loss: 0.0851 - val_accuracy: 0.9748\n",
            "Epoch 4/30\n",
            "391/391 [==============================] - 5s 13ms/step - loss: 0.0548 - accuracy: 0.9832 - val_loss: 0.0892 - val_accuracy: 0.9742\n",
            "Epoch 5/30\n",
            "391/391 [==============================] - 5s 12ms/step - loss: 0.0415 - accuracy: 0.9878 - val_loss: 0.0747 - val_accuracy: 0.9777\n",
            "Epoch 6/30\n",
            "391/391 [==============================] - 4s 11ms/step - loss: 0.0315 - accuracy: 0.9913 - val_loss: 0.0833 - val_accuracy: 0.9774\n",
            "Epoch 7/30\n",
            "391/391 [==============================] - 5s 13ms/step - loss: 0.0238 - accuracy: 0.9930 - val_loss: 0.0762 - val_accuracy: 0.9795\n",
            "Epoch 8/30\n",
            "391/391 [==============================] - 4s 11ms/step - loss: 0.0184 - accuracy: 0.9943 - val_loss: 0.0741 - val_accuracy: 0.9809\n",
            "Epoch 9/30\n",
            "391/391 [==============================] - 5s 12ms/step - loss: 0.0136 - accuracy: 0.9960 - val_loss: 0.0760 - val_accuracy: 0.9806\n",
            "Epoch 10/30\n",
            "391/391 [==============================] - 4s 11ms/step - loss: 0.0102 - accuracy: 0.9972 - val_loss: 0.0794 - val_accuracy: 0.9811\n",
            "Epoch 11/30\n",
            "391/391 [==============================] - 5s 12ms/step - loss: 0.0081 - accuracy: 0.9976 - val_loss: 0.0780 - val_accuracy: 0.9817\n",
            "Epoch 12/30\n",
            "391/391 [==============================] - 5s 12ms/step - loss: 0.0059 - accuracy: 0.9985 - val_loss: 0.0869 - val_accuracy: 0.9803\n",
            "Epoch 13/30\n",
            "391/391 [==============================] - 4s 11ms/step - loss: 0.0043 - accuracy: 0.9987 - val_loss: 0.0904 - val_accuracy: 0.9807\n",
            "Epoch 14/30\n",
            "391/391 [==============================] - 4s 11ms/step - loss: 0.0038 - accuracy: 0.9989 - val_loss: 0.1067 - val_accuracy: 0.9775\n",
            "Epoch 15/30\n",
            "391/391 [==============================] - 5s 12ms/step - loss: 0.0025 - accuracy: 0.9993 - val_loss: 0.0961 - val_accuracy: 0.9810\n",
            "Epoch 16/30\n",
            "391/391 [==============================] - 5s 13ms/step - loss: 0.0025 - accuracy: 0.9992 - val_loss: 0.1014 - val_accuracy: 0.9796\n",
            "Epoch 17/30\n",
            "391/391 [==============================] - 6s 16ms/step - loss: 0.0017 - accuracy: 0.9995 - val_loss: 0.1102 - val_accuracy: 0.9808\n",
            "Epoch 18/30\n",
            "391/391 [==============================] - 4s 11ms/step - loss: 0.0015 - accuracy: 0.9995 - val_loss: 0.1084 - val_accuracy: 0.9806\n",
            "Epoch 19/30\n",
            "391/391 [==============================] - 4s 11ms/step - loss: 0.0011 - accuracy: 0.9997 - val_loss: 0.1162 - val_accuracy: 0.9795\n",
            "Epoch 20/30\n",
            "391/391 [==============================] - 4s 11ms/step - loss: 0.0010 - accuracy: 0.9997 - val_loss: 0.1116 - val_accuracy: 0.9812\n",
            "Epoch 21/30\n",
            "391/391 [==============================] - 4s 11ms/step - loss: 8.7894e-04 - accuracy: 0.9998 - val_loss: 0.1291 - val_accuracy: 0.9786\n",
            "Epoch 22/30\n",
            "391/391 [==============================] - 4s 11ms/step - loss: 5.4943e-04 - accuracy: 0.9998 - val_loss: 0.1194 - val_accuracy: 0.9814\n",
            "Epoch 23/30\n",
            "391/391 [==============================] - 4s 11ms/step - loss: 4.6835e-04 - accuracy: 0.9999 - val_loss: 0.1243 - val_accuracy: 0.9809\n",
            "Epoch 24/30\n",
            "391/391 [==============================] - 5s 12ms/step - loss: 3.2359e-04 - accuracy: 0.9999 - val_loss: 0.1286 - val_accuracy: 0.9809\n",
            "Epoch 25/30\n",
            "391/391 [==============================] - 5s 12ms/step - loss: 3.3973e-04 - accuracy: 0.9999 - val_loss: 0.1277 - val_accuracy: 0.9813\n",
            "Epoch 26/30\n",
            "391/391 [==============================] - 6s 14ms/step - loss: 3.1474e-04 - accuracy: 0.9999 - val_loss: 0.1243 - val_accuracy: 0.9818\n",
            "Epoch 27/30\n",
            "391/391 [==============================] - 4s 11ms/step - loss: 2.0619e-04 - accuracy: 1.0000 - val_loss: 0.1363 - val_accuracy: 0.9814\n",
            "Epoch 28/30\n",
            "391/391 [==============================] - 4s 11ms/step - loss: 2.7709e-04 - accuracy: 0.9999 - val_loss: 0.1332 - val_accuracy: 0.9823\n",
            "Epoch 29/30\n",
            "391/391 [==============================] - 4s 11ms/step - loss: 1.6682e-04 - accuracy: 1.0000 - val_loss: 0.1436 - val_accuracy: 0.9814\n",
            "Epoch 30/30\n",
            "391/391 [==============================] - 5s 12ms/step - loss: 1.4265e-04 - accuracy: 0.9999 - val_loss: 0.1361 - val_accuracy: 0.9819\n"
          ]
        }
      ]
    },
    {
      "cell_type": "code",
      "source": [
        "pinta_perdida_entrenamiento_validacion(historia0)"
      ],
      "metadata": {
        "id": "OvhDZvS8-0mG",
        "outputId": "d6d2631c-943a-4728-8f06-fc9a8df69c6d",
        "colab": {
          "base_uri": "https://localhost:8080/",
          "height": 295
        }
      },
      "execution_count": 18,
      "outputs": [
        {
          "output_type": "display_data",
          "data": {
            "text/plain": [
              "<Figure size 432x288 with 1 Axes>"
            ],
            "image/png": "[encoded data removed]"
          },
          "metadata": {
            "needs_background": "light"
          }
        }
      ]
    },
    {
      "cell_type": "code",
      "source": [
        "pinta_precision_entrenamiento_validacion(historia0)"
      ],
      "metadata": {
        "id": "UuiL2CCH_fGN",
        "outputId": "ad2c2f25-b549-413a-e944-abb16a07e4c1",
        "colab": {
          "base_uri": "https://localhost:8080/",
          "height": 295
        }
      },
      "execution_count": 19,
      "outputs": [
        {
          "output_type": "display_data",
          "data": {
            "text/plain": [
              "<Figure size 432x288 with 1 Axes>"
            ],
            "image/png": "[encoded data removed]"
          },
          "metadata": {
            "needs_background": "light"
          }
        }
      ]
    },
    {
      "cell_type": "markdown",
      "source": [
        "### Caso 1: Con regularizador l1"
      ],
      "metadata": {
        "id": "pw6iBGO5Bg8J"
      }
    },
    {
      "cell_type": "code",
      "source": [
        "network1 = crea_modelo(1)"
      ],
      "metadata": {
        "id": "D6JPtw5zCz-1",
        "colab": {
          "base_uri": "https://localhost:8080/"
        },
        "outputId": "af7c897e-644b-41a6-deb8-a1cbf5659630"
      },
      "execution_count": 20,
      "outputs": [
        {
          "output_type": "stream",
          "name": "stdout",
          "text": [
            "Model: \"sequential_1\"\n",
            "_________________________________________________________________\n",
            " Layer (type)                Output Shape              Param #   \n",
            "=================================================================\n",
            " dense_2 (Dense)             (None, 512)               401920    \n",
            "                                                                 \n",
            " dense_3 (Dense)             (None, 10)                5130      \n",
            "                                                                 \n",
            "=================================================================\n",
            "Total params: 407,050\n",
            "Trainable params: 407,050\n",
            "Non-trainable params: 0\n",
            "_________________________________________________________________\n"
          ]
        }
      ]
    },
    {
      "cell_type": "code",
      "source": [
        "network1 = compila_modelo(network1)"
      ],
      "metadata": {
        "id": "zL3Gp7wvFRq3"
      },
      "execution_count": 21,
      "outputs": []
    },
    {
      "cell_type": "code",
      "source": [
        "historia1 = entrena_modelo(network1)"
      ],
      "metadata": {
        "id": "G2FG1Z4xFW72",
        "colab": {
          "base_uri": "https://localhost:8080/"
        },
        "outputId": "59fc4fa5-4bb8-4c11-b4d0-e10fe30134b6"
      },
      "execution_count": 22,
      "outputs": [
        {
          "output_type": "stream",
          "name": "stdout",
          "text": [
            "Epoch 1/30\n",
            "391/391 [==============================] - 6s 15ms/step - loss: 2.1404 - accuracy: 0.8425 - val_loss: 1.0332 - val_accuracy: 0.8821\n",
            "Epoch 2/30\n",
            "391/391 [==============================] - 5s 14ms/step - loss: 0.9641 - accuracy: 0.8787 - val_loss: 0.8865 - val_accuracy: 0.8948\n",
            "Epoch 3/30\n",
            "391/391 [==============================] - 5s 14ms/step - loss: 0.8393 - accuracy: 0.9003 - val_loss: 0.7927 - val_accuracy: 0.9068\n",
            "Epoch 4/30\n",
            "391/391 [==============================] - 5s 14ms/step - loss: 0.7614 - accuracy: 0.9133 - val_loss: 0.7112 - val_accuracy: 0.9242\n",
            "Epoch 5/30\n",
            "391/391 [==============================] - 6s 14ms/step - loss: 0.7093 - accuracy: 0.9222 - val_loss: 0.6794 - val_accuracy: 0.9332\n",
            "Epoch 6/30\n",
            "391/391 [==============================] - 5s 14ms/step - loss: 0.6726 - accuracy: 0.9301 - val_loss: 0.6341 - val_accuracy: 0.9426\n",
            "Epoch 7/30\n",
            "391/391 [==============================] - 5s 14ms/step - loss: 0.6471 - accuracy: 0.9329 - val_loss: 0.6279 - val_accuracy: 0.9406\n",
            "Epoch 8/30\n",
            "391/391 [==============================] - 5s 14ms/step - loss: 0.6262 - accuracy: 0.9372 - val_loss: 0.6043 - val_accuracy: 0.9440\n",
            "Epoch 9/30\n",
            "391/391 [==============================] - 5s 14ms/step - loss: 0.6082 - accuracy: 0.9409 - val_loss: 0.6387 - val_accuracy: 0.9313\n",
            "Epoch 10/30\n",
            "391/391 [==============================] - 5s 14ms/step - loss: 0.5933 - accuracy: 0.9427 - val_loss: 0.5761 - val_accuracy: 0.9481\n",
            "Epoch 11/30\n",
            "391/391 [==============================] - 5s 14ms/step - loss: 0.5813 - accuracy: 0.9447 - val_loss: 0.5446 - val_accuracy: 0.9545\n",
            "Epoch 12/30\n",
            "391/391 [==============================] - 5s 14ms/step - loss: 0.5706 - accuracy: 0.9459 - val_loss: 0.5746 - val_accuracy: 0.9498\n",
            "Epoch 13/30\n",
            "391/391 [==============================] - 5s 13ms/step - loss: 0.5603 - accuracy: 0.9486 - val_loss: 0.5330 - val_accuracy: 0.9558\n",
            "Epoch 14/30\n",
            "391/391 [==============================] - 5s 13ms/step - loss: 0.5512 - accuracy: 0.9493 - val_loss: 0.5334 - val_accuracy: 0.9551\n",
            "Epoch 15/30\n",
            "391/391 [==============================] - 5s 14ms/step - loss: 0.5438 - accuracy: 0.9512 - val_loss: 0.5338 - val_accuracy: 0.9527\n",
            "Epoch 16/30\n",
            "391/391 [==============================] - 6s 15ms/step - loss: 0.5378 - accuracy: 0.9502 - val_loss: 0.5384 - val_accuracy: 0.9520\n",
            "Epoch 17/30\n",
            "391/391 [==============================] - 5s 13ms/step - loss: 0.5302 - accuracy: 0.9525 - val_loss: 0.5120 - val_accuracy: 0.9584\n",
            "Epoch 18/30\n",
            "391/391 [==============================] - 5s 13ms/step - loss: 0.5247 - accuracy: 0.9533 - val_loss: 0.5299 - val_accuracy: 0.9534\n",
            "Epoch 19/30\n",
            "391/391 [==============================] - 5s 13ms/step - loss: 0.5192 - accuracy: 0.9544 - val_loss: 0.5054 - val_accuracy: 0.9603\n",
            "Epoch 20/30\n",
            "391/391 [==============================] - 5s 14ms/step - loss: 0.5146 - accuracy: 0.9555 - val_loss: 0.5239 - val_accuracy: 0.9538\n",
            "Epoch 21/30\n",
            "391/391 [==============================] - 5s 14ms/step - loss: 0.5112 - accuracy: 0.9557 - val_loss: 0.5004 - val_accuracy: 0.9595\n",
            "Epoch 22/30\n",
            "391/391 [==============================] - 6s 15ms/step - loss: 0.5059 - accuracy: 0.9558 - val_loss: 0.4854 - val_accuracy: 0.9629\n",
            "Epoch 23/30\n",
            "391/391 [==============================] - 6s 14ms/step - loss: 0.5046 - accuracy: 0.9551 - val_loss: 0.5079 - val_accuracy: 0.9572\n",
            "Epoch 24/30\n",
            "391/391 [==============================] - 5s 14ms/step - loss: 0.5021 - accuracy: 0.9577 - val_loss: 0.5048 - val_accuracy: 0.9586\n",
            "Epoch 25/30\n",
            "391/391 [==============================] - 5s 13ms/step - loss: 0.5000 - accuracy: 0.9562 - val_loss: 0.4903 - val_accuracy: 0.9616\n",
            "Epoch 26/30\n",
            "391/391 [==============================] - 5s 13ms/step - loss: 0.4961 - accuracy: 0.9574 - val_loss: 0.4963 - val_accuracy: 0.9587\n",
            "Epoch 27/30\n",
            "391/391 [==============================] - 6s 15ms/step - loss: 0.4927 - accuracy: 0.9582 - val_loss: 0.5208 - val_accuracy: 0.9475\n",
            "Epoch 28/30\n",
            "391/391 [==============================] - 6s 14ms/step - loss: 0.4927 - accuracy: 0.9575 - val_loss: 0.4971 - val_accuracy: 0.9545\n",
            "Epoch 29/30\n",
            "391/391 [==============================] - 5s 14ms/step - loss: 0.4890 - accuracy: 0.9585 - val_loss: 0.4822 - val_accuracy: 0.9607\n",
            "Epoch 30/30\n",
            "391/391 [==============================] - 5s 14ms/step - loss: 0.4864 - accuracy: 0.9582 - val_loss: 0.4721 - val_accuracy: 0.9620\n"
          ]
        }
      ]
    },
    {
      "cell_type": "code",
      "source": [
        "pinta_perdida_entrenamiento_validacion(historia1)"
      ],
      "metadata": {
        "id": "Vyv3yFtiFitw",
        "colab": {
          "base_uri": "https://localhost:8080/",
          "height": 295
        },
        "outputId": "f986c3e4-8796-4a94-deca-ec2d21f7d08b"
      },
      "execution_count": 23,
      "outputs": [
        {
          "output_type": "display_data",
          "data": {
            "text/plain": [
              "<Figure size 432x288 with 1 Axes>"
            ],
            "image/png": "[encoded data removed]"
          },
          "metadata": {
            "needs_background": "light"
          }
        }
      ]
    },
    {
      "cell_type": "code",
      "source": [
        "pinta_precision_entrenamiento_validacion(historia1)"
      ],
      "metadata": {
        "id": "pVUerJsqFo7K",
        "colab": {
          "base_uri": "https://localhost:8080/",
          "height": 295
        },
        "outputId": "9788e540-4a11-4485-931c-d86d3cc0d8ab"
      },
      "execution_count": 24,
      "outputs": [
        {
          "output_type": "display_data",
          "data": {
            "text/plain": [
              "<Figure size 432x288 with 1 Axes>"
            ],
            "image/png": "[encoded data removed]"
          },
          "metadata": {
            "needs_background": "light"
          }
        }
      ]
    },
    {
      "cell_type": "markdown",
      "source": [
        "### Caso 2: Con regularizador l2"
      ],
      "metadata": {
        "id": "hklwKNlMBzya"
      }
    },
    {
      "cell_type": "code",
      "source": [
        "network2 = crea_modelo(2)"
      ],
      "metadata": {
        "id": "tjIs0FziG5Ja",
        "colab": {
          "base_uri": "https://localhost:8080/"
        },
        "outputId": "9763187a-eef7-4feb-c78d-c12879f28a0e"
      },
      "execution_count": 25,
      "outputs": [
        {
          "output_type": "stream",
          "name": "stdout",
          "text": [
            "Model: \"sequential_2\"\n",
            "_________________________________________________________________\n",
            " Layer (type)                Output Shape              Param #   \n",
            "=================================================================\n",
            " dense_4 (Dense)             (None, 512)               401920    \n",
            "                                                                 \n",
            " dense_5 (Dense)             (None, 10)                5130      \n",
            "                                                                 \n",
            "=================================================================\n",
            "Total params: 407,050\n",
            "Trainable params: 407,050\n",
            "Non-trainable params: 0\n",
            "_________________________________________________________________\n"
          ]
        }
      ]
    },
    {
      "cell_type": "code",
      "source": [
        "network2 = compila_modelo(network2)"
      ],
      "metadata": {
        "id": "UCdA0K_qyTUq"
      },
      "execution_count": 26,
      "outputs": []
    },
    {
      "cell_type": "code",
      "source": [
        "historia2 = entrena_modelo(network2)"
      ],
      "metadata": {
        "id": "WSuomx5oybpu",
        "colab": {
          "base_uri": "https://localhost:8080/"
        },
        "outputId": "ed49c0a6-f142-4c62-e7f1-748c86aff0bd"
      },
      "execution_count": 27,
      "outputs": [
        {
          "output_type": "stream",
          "name": "stdout",
          "text": [
            "Epoch 1/30\n",
            "391/391 [==============================] - 6s 14ms/step - loss: 0.5291 - accuracy: 0.9117 - val_loss: 0.3098 - val_accuracy: 0.9500\n",
            "Epoch 2/30\n",
            "391/391 [==============================] - 5s 13ms/step - loss: 0.2662 - accuracy: 0.9537 - val_loss: 0.2221 - val_accuracy: 0.9614\n",
            "Epoch 3/30\n",
            "391/391 [==============================] - 5s 13ms/step - loss: 0.2128 - accuracy: 0.9630 - val_loss: 0.2120 - val_accuracy: 0.9615\n",
            "Epoch 4/30\n",
            "391/391 [==============================] - 5s 13ms/step - loss: 0.1886 - accuracy: 0.9662 - val_loss: 0.1709 - val_accuracy: 0.9739\n",
            "Epoch 5/30\n",
            "391/391 [==============================] - 6s 15ms/step - loss: 0.1739 - accuracy: 0.9699 - val_loss: 0.1711 - val_accuracy: 0.9716\n",
            "Epoch 6/30\n",
            "391/391 [==============================] - 5s 13ms/step - loss: 0.1654 - accuracy: 0.9704 - val_loss: 0.1531 - val_accuracy: 0.9731\n",
            "Epoch 7/30\n",
            "391/391 [==============================] - 7s 18ms/step - loss: 0.1575 - accuracy: 0.9728 - val_loss: 0.1687 - val_accuracy: 0.9681\n",
            "Epoch 8/30\n",
            "391/391 [==============================] - 5s 13ms/step - loss: 0.1519 - accuracy: 0.9739 - val_loss: 0.1845 - val_accuracy: 0.9623\n",
            "Epoch 9/30\n",
            "391/391 [==============================] - 6s 14ms/step - loss: 0.1471 - accuracy: 0.9749 - val_loss: 0.1595 - val_accuracy: 0.9697\n",
            "Epoch 10/30\n",
            "391/391 [==============================] - 5s 14ms/step - loss: 0.1431 - accuracy: 0.9756 - val_loss: 0.1501 - val_accuracy: 0.9741\n",
            "Epoch 11/30\n",
            "391/391 [==============================] - 5s 12ms/step - loss: 0.1397 - accuracy: 0.9762 - val_loss: 0.1537 - val_accuracy: 0.9728\n",
            "Epoch 12/30\n",
            "391/391 [==============================] - 5s 13ms/step - loss: 0.1367 - accuracy: 0.9772 - val_loss: 0.1586 - val_accuracy: 0.9720\n",
            "Epoch 13/30\n",
            "391/391 [==============================] - 5s 13ms/step - loss: 0.1348 - accuracy: 0.9763 - val_loss: 0.1384 - val_accuracy: 0.9764\n",
            "Epoch 14/30\n",
            "391/391 [==============================] - 5s 13ms/step - loss: 0.1312 - accuracy: 0.9782 - val_loss: 0.1413 - val_accuracy: 0.9749\n",
            "Epoch 15/30\n",
            "391/391 [==============================] - 5s 13ms/step - loss: 0.1294 - accuracy: 0.9773 - val_loss: 0.1406 - val_accuracy: 0.9761\n",
            "Epoch 16/30\n",
            "391/391 [==============================] - 5s 14ms/step - loss: 0.1276 - accuracy: 0.9786 - val_loss: 0.1357 - val_accuracy: 0.9775\n",
            "Epoch 17/30\n",
            "391/391 [==============================] - 5s 12ms/step - loss: 0.1246 - accuracy: 0.9790 - val_loss: 0.1697 - val_accuracy: 0.9655\n",
            "Epoch 18/30\n",
            "391/391 [==============================] - 5s 12ms/step - loss: 0.1245 - accuracy: 0.9785 - val_loss: 0.1319 - val_accuracy: 0.9779\n",
            "Epoch 19/30\n",
            "391/391 [==============================] - 5s 13ms/step - loss: 0.1226 - accuracy: 0.9801 - val_loss: 0.1327 - val_accuracy: 0.9763\n",
            "Epoch 20/30\n",
            "391/391 [==============================] - 5s 13ms/step - loss: 0.1213 - accuracy: 0.9800 - val_loss: 0.1805 - val_accuracy: 0.9636\n",
            "Epoch 21/30\n",
            "391/391 [==============================] - 6s 14ms/step - loss: 0.1196 - accuracy: 0.9803 - val_loss: 0.1468 - val_accuracy: 0.9723\n",
            "Epoch 22/30\n",
            "391/391 [==============================] - 6s 14ms/step - loss: 0.1176 - accuracy: 0.9806 - val_loss: 0.1472 - val_accuracy: 0.9727\n",
            "Epoch 23/30\n",
            "391/391 [==============================] - 5s 13ms/step - loss: 0.1170 - accuracy: 0.9805 - val_loss: 0.1374 - val_accuracy: 0.9757\n",
            "Epoch 24/30\n",
            "391/391 [==============================] - 5s 12ms/step - loss: 0.1151 - accuracy: 0.9807 - val_loss: 0.1408 - val_accuracy: 0.9734\n",
            "Epoch 25/30\n",
            "391/391 [==============================] - 5s 13ms/step - loss: 0.1145 - accuracy: 0.9809 - val_loss: 0.1313 - val_accuracy: 0.9763\n",
            "Epoch 26/30\n",
            "391/391 [==============================] - 5s 13ms/step - loss: 0.1125 - accuracy: 0.9811 - val_loss: 0.1303 - val_accuracy: 0.9766\n",
            "Epoch 27/30\n",
            "391/391 [==============================] - 5s 14ms/step - loss: 0.1103 - accuracy: 0.9818 - val_loss: 0.1623 - val_accuracy: 0.9693\n",
            "Epoch 28/30\n",
            "391/391 [==============================] - 5s 13ms/step - loss: 0.1111 - accuracy: 0.9820 - val_loss: 0.1460 - val_accuracy: 0.9717\n",
            "Epoch 29/30\n",
            "391/391 [==============================] - 5s 13ms/step - loss: 0.1097 - accuracy: 0.9822 - val_loss: 0.1390 - val_accuracy: 0.9738\n",
            "Epoch 30/30\n",
            "391/391 [==============================] - 5s 13ms/step - loss: 0.1083 - accuracy: 0.9822 - val_loss: 0.1364 - val_accuracy: 0.9743\n"
          ]
        }
      ]
    },
    {
      "cell_type": "code",
      "source": [
        "pinta_perdida_entrenamiento_validacion(historia2)"
      ],
      "metadata": {
        "id": "aXXzm8tpyj6X",
        "colab": {
          "base_uri": "https://localhost:8080/",
          "height": 295
        },
        "outputId": "73a714e3-16c4-4fb5-d634-c69e90bdba0c"
      },
      "execution_count": 28,
      "outputs": [
        {
          "output_type": "display_data",
          "data": {
            "text/plain": [
              "<Figure size 432x288 with 1 Axes>"
            ],
            "image/png": "[encoded data removed]"
          },
          "metadata": {
            "needs_background": "light"
          }
        }
      ]
    },
    {
      "cell_type": "code",
      "source": [
        "pinta_precision_entrenamiento_validacion(historia2)"
      ],
      "metadata": {
        "id": "CLTsg5LTypH9",
        "colab": {
          "base_uri": "https://localhost:8080/",
          "height": 295
        },
        "outputId": "e6246b02-e6f6-4723-d9c3-d708fa0dda29"
      },
      "execution_count": 29,
      "outputs": [
        {
          "output_type": "display_data",
          "data": {
            "text/plain": [
              "<Figure size 432x288 with 1 Axes>"
            ],
            "image/png": "[encoded data removed]"
          },
          "metadata": {
            "needs_background": "light"
          }
        }
      ]
    },
    {
      "cell_type": "markdown",
      "source": [
        "### Caso 3: Con regularizador l1_l2"
      ],
      "metadata": {
        "id": "692oWz8oB82n"
      }
    },
    {
      "cell_type": "code",
      "source": [
        "network3 = crea_modelo(3)"
      ],
      "metadata": {
        "id": "5fdxkjoKzFcu",
        "colab": {
          "base_uri": "https://localhost:8080/"
        },
        "outputId": "f27116da-5fc1-4bef-ef88-10372f2ac15a"
      },
      "execution_count": 30,
      "outputs": [
        {
          "output_type": "stream",
          "name": "stdout",
          "text": [
            "Model: \"sequential_3\"\n",
            "_________________________________________________________________\n",
            " Layer (type)                Output Shape              Param #   \n",
            "=================================================================\n",
            " dense_6 (Dense)             (None, 512)               401920    \n",
            "                                                                 \n",
            " dense_7 (Dense)             (None, 10)                5130      \n",
            "                                                                 \n",
            "=================================================================\n",
            "Total params: 407,050\n",
            "Trainable params: 407,050\n",
            "Non-trainable params: 0\n",
            "_________________________________________________________________\n"
          ]
        }
      ]
    },
    {
      "cell_type": "code",
      "source": [
        "network3 = compila_modelo(network3)"
      ],
      "metadata": {
        "id": "VJzs9A2yzPhx"
      },
      "execution_count": 31,
      "outputs": []
    },
    {
      "cell_type": "code",
      "source": [
        "historia3 = entrena_modelo(network3)"
      ],
      "metadata": {
        "id": "1JCUbcCQzY6E",
        "colab": {
          "base_uri": "https://localhost:8080/"
        },
        "outputId": "c1ff2775-34c7-4c21-df34-6d2371269fb8"
      },
      "execution_count": 32,
      "outputs": [
        {
          "output_type": "stream",
          "name": "stdout",
          "text": [
            "Epoch 1/30\n",
            "391/391 [==============================] - 7s 16ms/step - loss: 2.1888 - accuracy: 0.8410 - val_loss: 1.0801 - val_accuracy: 0.8714\n",
            "Epoch 2/30\n",
            "391/391 [==============================] - 6s 15ms/step - loss: 0.9818 - accuracy: 0.8775 - val_loss: 1.0252 - val_accuracy: 0.8468\n",
            "Epoch 3/30\n",
            "391/391 [==============================] - 5s 14ms/step - loss: 0.8624 - accuracy: 0.8975 - val_loss: 0.8129 - val_accuracy: 0.9044\n",
            "Epoch 4/30\n",
            "391/391 [==============================] - 5s 14ms/step - loss: 0.7900 - accuracy: 0.9113 - val_loss: 0.7863 - val_accuracy: 0.9108\n",
            "Epoch 5/30\n",
            "391/391 [==============================] - 6s 15ms/step - loss: 0.7392 - accuracy: 0.9206 - val_loss: 0.6678 - val_accuracy: 0.9411\n",
            "Epoch 6/30\n",
            "391/391 [==============================] - 6s 16ms/step - loss: 0.6984 - accuracy: 0.9273 - val_loss: 0.6761 - val_accuracy: 0.9288\n",
            "Epoch 7/30\n",
            "391/391 [==============================] - 6s 14ms/step - loss: 0.6694 - accuracy: 0.9327 - val_loss: 0.6380 - val_accuracy: 0.9415\n",
            "Epoch 8/30\n",
            "391/391 [==============================] - 6s 15ms/step - loss: 0.6440 - accuracy: 0.9363 - val_loss: 0.6223 - val_accuracy: 0.9407\n",
            "Epoch 9/30\n",
            "391/391 [==============================] - 7s 17ms/step - loss: 0.6239 - accuracy: 0.9399 - val_loss: 0.6045 - val_accuracy: 0.9479\n",
            "Epoch 10/30\n",
            "391/391 [==============================] - 5s 14ms/step - loss: 0.6078 - accuracy: 0.9432 - val_loss: 0.6061 - val_accuracy: 0.9440\n",
            "Epoch 11/30\n",
            "391/391 [==============================] - 6s 15ms/step - loss: 0.5946 - accuracy: 0.9449 - val_loss: 0.5749 - val_accuracy: 0.9511\n",
            "Epoch 12/30\n",
            "391/391 [==============================] - 6s 14ms/step - loss: 0.5829 - accuracy: 0.9469 - val_loss: 0.5792 - val_accuracy: 0.9462\n",
            "Epoch 13/30\n",
            "391/391 [==============================] - 5s 14ms/step - loss: 0.5750 - accuracy: 0.9471 - val_loss: 0.5439 - val_accuracy: 0.9567\n",
            "Epoch 14/30\n",
            "391/391 [==============================] - 6s 15ms/step - loss: 0.5664 - accuracy: 0.9488 - val_loss: 0.5544 - val_accuracy: 0.9518\n",
            "Epoch 15/30\n",
            "391/391 [==============================] - 7s 17ms/step - loss: 0.5589 - accuracy: 0.9495 - val_loss: 0.5552 - val_accuracy: 0.9544\n",
            "Epoch 16/30\n",
            "391/391 [==============================] - 5s 14ms/step - loss: 0.5519 - accuracy: 0.9516 - val_loss: 0.5639 - val_accuracy: 0.9459\n",
            "Epoch 17/30\n",
            "391/391 [==============================] - 6s 15ms/step - loss: 0.5456 - accuracy: 0.9525 - val_loss: 0.5748 - val_accuracy: 0.9436\n",
            "Epoch 18/30\n",
            "391/391 [==============================] - 6s 15ms/step - loss: 0.5395 - accuracy: 0.9532 - val_loss: 0.5145 - val_accuracy: 0.9625\n",
            "Epoch 19/30\n",
            "391/391 [==============================] - 6s 14ms/step - loss: 0.5332 - accuracy: 0.9538 - val_loss: 0.5064 - val_accuracy: 0.9609\n",
            "Epoch 20/30\n",
            "391/391 [==============================] - 6s 15ms/step - loss: 0.5272 - accuracy: 0.9545 - val_loss: 0.5083 - val_accuracy: 0.9619\n",
            "Epoch 21/30\n",
            "391/391 [==============================] - 6s 15ms/step - loss: 0.5244 - accuracy: 0.9560 - val_loss: 0.5187 - val_accuracy: 0.9563\n",
            "Epoch 22/30\n",
            "391/391 [==============================] - 6s 15ms/step - loss: 0.5199 - accuracy: 0.9547 - val_loss: 0.5157 - val_accuracy: 0.9592\n",
            "Epoch 23/30\n",
            "391/391 [==============================] - 6s 16ms/step - loss: 0.5153 - accuracy: 0.9561 - val_loss: 0.5190 - val_accuracy: 0.9562\n",
            "Epoch 24/30\n",
            "391/391 [==============================] - 6s 15ms/step - loss: 0.5114 - accuracy: 0.9568 - val_loss: 0.5218 - val_accuracy: 0.9567\n",
            "Epoch 25/30\n",
            "391/391 [==============================] - 6s 14ms/step - loss: 0.5083 - accuracy: 0.9573 - val_loss: 0.5194 - val_accuracy: 0.9551\n",
            "Epoch 26/30\n",
            "391/391 [==============================] - 6s 15ms/step - loss: 0.5058 - accuracy: 0.9575 - val_loss: 0.5246 - val_accuracy: 0.9505\n",
            "Epoch 27/30\n",
            "391/391 [==============================] - 7s 18ms/step - loss: 0.5032 - accuracy: 0.9580 - val_loss: 0.5236 - val_accuracy: 0.9521\n",
            "Epoch 28/30\n",
            "391/391 [==============================] - 6s 15ms/step - loss: 0.5009 - accuracy: 0.9582 - val_loss: 0.4949 - val_accuracy: 0.9603\n",
            "Epoch 29/30\n",
            "391/391 [==============================] - 6s 15ms/step - loss: 0.4978 - accuracy: 0.9581 - val_loss: 0.4987 - val_accuracy: 0.9590\n",
            "Epoch 30/30\n",
            "391/391 [==============================] - 6s 15ms/step - loss: 0.4962 - accuracy: 0.9591 - val_loss: 0.4712 - val_accuracy: 0.9687\n"
          ]
        }
      ]
    },
    {
      "cell_type": "code",
      "source": [
        "pinta_perdida_entrenamiento_validacion(historia3)"
      ],
      "metadata": {
        "id": "I8XzPVtyze8y",
        "colab": {
          "base_uri": "https://localhost:8080/",
          "height": 295
        },
        "outputId": "43e07d75-93a1-4cd1-a7fa-2f684e285af7"
      },
      "execution_count": 33,
      "outputs": [
        {
          "output_type": "display_data",
          "data": {
            "text/plain": [
              "<Figure size 432x288 with 1 Axes>"
            ],
            "image/png": "[encoded data removed]"
          },
          "metadata": {
            "needs_background": "light"
          }
        }
      ]
    },
    {
      "cell_type": "code",
      "source": [
        "pinta_precision_entrenamiento_validacion(historia3)"
      ],
      "metadata": {
        "id": "nKk7AmM8zi3A",
        "colab": {
          "base_uri": "https://localhost:8080/",
          "height": 295
        },
        "outputId": "03b2f55c-50b6-40ed-dd46-4cd3a0bf56a7"
      },
      "execution_count": 34,
      "outputs": [
        {
          "output_type": "display_data",
          "data": {
            "text/plain": [
              "<Figure size 432x288 with 1 Axes>"
            ],
            "image/png": "[encoded data removed]"
          },
          "metadata": {
            "needs_background": "light"
          }
        }
      ]
    },
    {
      "cell_type": "markdown",
      "source": [
        "### Caso 4: Con Droput"
      ],
      "metadata": {
        "id": "OPVcbgcXCFRL"
      }
    },
    {
      "cell_type": "code",
      "source": [
        "network4 = crea_modelo(4)"
      ],
      "metadata": {
        "id": "5MVbUNX11Pgr",
        "colab": {
          "base_uri": "https://localhost:8080/"
        },
        "outputId": "545dcc29-a67a-4810-c183-a8338d74b439"
      },
      "execution_count": 35,
      "outputs": [
        {
          "output_type": "stream",
          "name": "stdout",
          "text": [
            "Model: \"sequential_4\"\n",
            "_________________________________________________________________\n",
            " Layer (type)                Output Shape              Param #   \n",
            "=================================================================\n",
            " dense_8 (Dense)             (None, 512)               401920    \n",
            "                                                                 \n",
            " dropout (Dropout)           (None, 512)               0         \n",
            "                                                                 \n",
            " dense_9 (Dense)             (None, 10)                5130      \n",
            "                                                                 \n",
            "=================================================================\n",
            "Total params: 407,050\n",
            "Trainable params: 407,050\n",
            "Non-trainable params: 0\n",
            "_________________________________________________________________\n"
          ]
        }
      ]
    },
    {
      "cell_type": "code",
      "source": [
        "network4 = compila_modelo(network4)"
      ],
      "metadata": {
        "id": "pT-13IKI1UpW"
      },
      "execution_count": 36,
      "outputs": []
    },
    {
      "cell_type": "code",
      "source": [
        "historia4 = entrena_modelo(network4)"
      ],
      "metadata": {
        "id": "kNWidx1S1aCH",
        "colab": {
          "base_uri": "https://localhost:8080/"
        },
        "outputId": "73a2028a-a3b3-48c2-9015-b599dc05019e"
      },
      "execution_count": 37,
      "outputs": [
        {
          "output_type": "stream",
          "name": "stdout",
          "text": [
            "Epoch 1/30\n",
            "391/391 [==============================] - 6s 13ms/step - loss: 0.3420 - accuracy: 0.8993 - val_loss: 0.1582 - val_accuracy: 0.9539\n",
            "Epoch 2/30\n",
            "391/391 [==============================] - 5s 12ms/step - loss: 0.1677 - accuracy: 0.9498 - val_loss: 0.1102 - val_accuracy: 0.9685\n",
            "Epoch 3/30\n",
            "391/391 [==============================] - 5s 13ms/step - loss: 0.1281 - accuracy: 0.9616 - val_loss: 0.0952 - val_accuracy: 0.9725\n",
            "Epoch 4/30\n",
            "391/391 [==============================] - 5s 12ms/step - loss: 0.1050 - accuracy: 0.9682 - val_loss: 0.0902 - val_accuracy: 0.9759\n",
            "Epoch 5/30\n",
            "391/391 [==============================] - 5s 12ms/step - loss: 0.0932 - accuracy: 0.9723 - val_loss: 0.0786 - val_accuracy: 0.9759\n",
            "Epoch 6/30\n",
            "391/391 [==============================] - 5s 12ms/step - loss: 0.0824 - accuracy: 0.9753 - val_loss: 0.0799 - val_accuracy: 0.9786\n",
            "Epoch 7/30\n",
            "391/391 [==============================] - 5s 12ms/step - loss: 0.0734 - accuracy: 0.9773 - val_loss: 0.0854 - val_accuracy: 0.9780\n",
            "Epoch 8/30\n",
            "391/391 [==============================] - 5s 12ms/step - loss: 0.0693 - accuracy: 0.9796 - val_loss: 0.0801 - val_accuracy: 0.9794\n",
            "Epoch 9/30\n",
            "391/391 [==============================] - 5s 13ms/step - loss: 0.0642 - accuracy: 0.9807 - val_loss: 0.0772 - val_accuracy: 0.9792\n",
            "Epoch 10/30\n",
            "391/391 [==============================] - 5s 13ms/step - loss: 0.0602 - accuracy: 0.9827 - val_loss: 0.0863 - val_accuracy: 0.9793\n",
            "Epoch 11/30\n",
            "391/391 [==============================] - 5s 12ms/step - loss: 0.0572 - accuracy: 0.9832 - val_loss: 0.0738 - val_accuracy: 0.9811\n",
            "Epoch 12/30\n",
            "391/391 [==============================] - 5s 12ms/step - loss: 0.0514 - accuracy: 0.9843 - val_loss: 0.0797 - val_accuracy: 0.9791\n",
            "Epoch 13/30\n",
            "391/391 [==============================] - 6s 15ms/step - loss: 0.0493 - accuracy: 0.9852 - val_loss: 0.0812 - val_accuracy: 0.9794\n",
            "Epoch 14/30\n",
            "391/391 [==============================] - 5s 13ms/step - loss: 0.0468 - accuracy: 0.9857 - val_loss: 0.0787 - val_accuracy: 0.9821\n",
            "Epoch 15/30\n",
            "391/391 [==============================] - 5s 13ms/step - loss: 0.0458 - accuracy: 0.9860 - val_loss: 0.0799 - val_accuracy: 0.9813\n",
            "Epoch 16/30\n",
            "391/391 [==============================] - 5s 14ms/step - loss: 0.0424 - accuracy: 0.9865 - val_loss: 0.0833 - val_accuracy: 0.9818\n",
            "Epoch 17/30\n",
            "391/391 [==============================] - 5s 13ms/step - loss: 0.0415 - accuracy: 0.9875 - val_loss: 0.0839 - val_accuracy: 0.9813\n",
            "Epoch 18/30\n",
            "391/391 [==============================] - 5s 13ms/step - loss: 0.0396 - accuracy: 0.9881 - val_loss: 0.0890 - val_accuracy: 0.9810\n",
            "Epoch 19/30\n",
            "391/391 [==============================] - 6s 14ms/step - loss: 0.0367 - accuracy: 0.9890 - val_loss: 0.0896 - val_accuracy: 0.9818\n",
            "Epoch 20/30\n",
            "391/391 [==============================] - 6s 14ms/step - loss: 0.0363 - accuracy: 0.9890 - val_loss: 0.0860 - val_accuracy: 0.9828\n",
            "Epoch 21/30\n",
            "391/391 [==============================] - 6s 16ms/step - loss: 0.0350 - accuracy: 0.9892 - val_loss: 0.0866 - val_accuracy: 0.9822\n",
            "Epoch 22/30\n",
            "391/391 [==============================] - 5s 13ms/step - loss: 0.0350 - accuracy: 0.9896 - val_loss: 0.0907 - val_accuracy: 0.9821\n",
            "Epoch 23/30\n",
            "391/391 [==============================] - 5s 13ms/step - loss: 0.0344 - accuracy: 0.9896 - val_loss: 0.0885 - val_accuracy: 0.9825\n",
            "Epoch 24/30\n",
            "391/391 [==============================] - 5s 13ms/step - loss: 0.0327 - accuracy: 0.9901 - val_loss: 0.0864 - val_accuracy: 0.9823\n",
            "Epoch 25/30\n",
            "391/391 [==============================] - 6s 14ms/step - loss: 0.0308 - accuracy: 0.9905 - val_loss: 0.0916 - val_accuracy: 0.9823\n",
            "Epoch 26/30\n",
            "391/391 [==============================] - 5s 13ms/step - loss: 0.0303 - accuracy: 0.9906 - val_loss: 0.0945 - val_accuracy: 0.9820\n",
            "Epoch 27/30\n",
            "391/391 [==============================] - 6s 16ms/step - loss: 0.0261 - accuracy: 0.9916 - val_loss: 0.0987 - val_accuracy: 0.9823\n",
            "Epoch 28/30\n",
            "391/391 [==============================] - 5s 13ms/step - loss: 0.0266 - accuracy: 0.9915 - val_loss: 0.0963 - val_accuracy: 0.9818\n",
            "Epoch 29/30\n",
            "391/391 [==============================] - 5s 13ms/step - loss: 0.0273 - accuracy: 0.9916 - val_loss: 0.0933 - val_accuracy: 0.9838\n",
            "Epoch 30/30\n",
            "391/391 [==============================] - 5s 13ms/step - loss: 0.0252 - accuracy: 0.9927 - val_loss: 0.0972 - val_accuracy: 0.9826\n"
          ]
        }
      ]
    },
    {
      "cell_type": "code",
      "source": [
        "pinta_perdida_entrenamiento_validacion(historia4)"
      ],
      "metadata": {
        "id": "R9pI34Yr1gBO",
        "colab": {
          "base_uri": "https://localhost:8080/",
          "height": 295
        },
        "outputId": "53498716-1351-47d4-f6db-17b869a4cde0"
      },
      "execution_count": 38,
      "outputs": [
        {
          "output_type": "display_data",
          "data": {
            "text/plain": [
              "<Figure size 432x288 with 1 Axes>"
            ],
            "image/png": "[encoded data removed]"
          },
          "metadata": {
            "needs_background": "light"
          }
        }
      ]
    },
    {
      "cell_type": "code",
      "source": [
        "pinta_precision_entrenamiento_validacion(historia4)"
      ],
      "metadata": {
        "id": "EwEIEOKx1lQr",
        "colab": {
          "base_uri": "https://localhost:8080/",
          "height": 295
        },
        "outputId": "a12a85bc-fdba-4177-de2a-676a19cdb289"
      },
      "execution_count": 39,
      "outputs": [
        {
          "output_type": "display_data",
          "data": {
            "text/plain": [
              "<Figure size 432x288 with 1 Axes>"
            ],
            "image/png": "[encoded data removed]"
          },
          "metadata": {
            "needs_background": "light"
          }
        }
      ]
    },
    {
      "cell_type": "markdown",
      "source": [
        "### Caso 5: Error de código de regularizador"
      ],
      "metadata": {
        "id": "e6rlKx2nCOgU"
      }
    },
    {
      "cell_type": "code",
      "source": [
        "network5 = crea_modelo(5)"
      ],
      "metadata": {
        "id": "SqGDm8VM1rwR",
        "colab": {
          "base_uri": "https://localhost:8080/"
        },
        "outputId": "d12fbe13-8c03-49eb-c72e-ed5a3f5a5c94"
      },
      "execution_count": 44,
      "outputs": [
        {
          "output_type": "stream",
          "name": "stdout",
          "text": [
            "El regularizador debe estar entre 0 y 4\n"
          ]
        }
      ]
    },
    {
      "cell_type": "markdown",
      "source": [
        "### CONCLUSIONES"
      ],
      "metadata": {
        "id": "IklUu29cCcVe"
      }
    },
    {
      "cell_type": "markdown",
      "source": [
        "Una vez hemos observado cómo se entrena el modelo en cada uno de los casos y  habiendo visto la pérdida y la precisión de los datos de validación y las gráficas concluimos lo siguiente.\n",
        "\n",
        "En el caso 0 vemos que la pérdida frente a los datos de validación va dismuniyendo hasta la época 9 (con algún pico) y a partir de ésta, la pérdida aumenta. Lo mismo pasa con los datos de validación, a aprtir de la época 10 la precisión aumenta y se distancia de los datos de entrenamiento. Es cedir, empieza a haber sobreentrenamiento a partir de la época 9, por lo que la mayor precisión que puede alcanzar es de 0.98.\n",
        "\n",
        "En el caso 1, añadimos un regularizador l1 = 0.001. En este caso no se alcanza una precisión del 0.98, lo mismo nos pasa en el caso 2 y en el caso 3, siendo la mayor precisión de 0.968 en el caso 1, de 0.978 en el caso 2 y de 0.968 en el caso 3. Por lo que sigue habiendo sobreentrenamiento. Sin embargo, vemos que en el caso 4 sí alcanzamos esa precisión con un 0.9838 por lo que el regularizador Dropout es el que mejor ajusta el sobreentrenamiento. Aún así sigue habiendo sobreentrenamiento en el caso 4 si nos fijamos en las gráficas, por lo que habrá que recudir el número de épocas. \n"
      ],
      "metadata": {
        "id": "cB_OYjjaChzN"
      }
    }
  ]
}